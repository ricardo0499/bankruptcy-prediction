{
 "cells": [
  {
   "cell_type": "code",
   "execution_count": 1,
   "id": "5f1c97d2",
   "metadata": {},
   "outputs": [
    {
     "name": "stdout",
     "output_type": "stream",
     "text": [
      "<class 'pandas.core.frame.DataFrame'>\n",
      "RangeIndex: 6819 entries, 0 to 6818\n",
      "Data columns (total 97 columns):\n",
      " #   Column                                                  Non-Null Count  Dtype  \n",
      "---  ------                                                  --------------  -----  \n",
      " 0   Unnamed: 0                                              6819 non-null   int64  \n",
      " 1   BANKRUPT                                                6819 non-null   int64  \n",
      " 2   ROA_C_BEFORE_INTEREST_AND_DEPRECIATION_BEFORE_INTEREST  6819 non-null   float64\n",
      " 3   ROA_A_BEFORE_INTEREST_AND__AFTER_TAX                    6819 non-null   float64\n",
      " 4   ROA_B_BEFORE_INTEREST_AND_DEPRECIATION_AFTER_TAX        6819 non-null   float64\n",
      " 5   OPERATING_GROSS_MARGIN                                  6819 non-null   float64\n",
      " 6   REALIZED_SALES_GROSS_MARGIN                             6819 non-null   float64\n",
      " 7   OPERATING_PROFIT_RATE                                   6819 non-null   float64\n",
      " 8   PRETAX_NET_INTEREST_RATE                                6819 non-null   float64\n",
      " 9   AFTERTAX_NET_INTEREST_RATE                              6819 non-null   float64\n",
      " 10  NONINDUSTRY_INCOME_AND_EXPENDITUREREVENUE               6819 non-null   float64\n",
      " 11  CONTINUOUS_INTEREST_RATE__AFTER_TAX                     6819 non-null   float64\n",
      " 12  OPERATING_EXPENSE_RATE                                  6819 non-null   float64\n",
      " 13  RESEARCH_AND_DEVELOPMENT_EXPENSE_RATE                   6819 non-null   float64\n",
      " 14  CASH_FLOW_RATE                                          6819 non-null   float64\n",
      " 15  INTERESTBEARING_DEBT_INTEREST_RATE                      6819 non-null   float64\n",
      " 16  TAX_RATE__A                                             6819 non-null   float64\n",
      " 17  NET_VALUE_PER_SHARE__B                                  6819 non-null   float64\n",
      " 18  NET_VALUE_PER_SHARE__A                                  6819 non-null   float64\n",
      " 19  NET_VALUE_PER_SHARE__C                                  6819 non-null   float64\n",
      " 20  PERSISTENT_EPS_IN_THE_LAST_FOUR_SEASONS                 6819 non-null   float64\n",
      " 21  CASH_FLOW_PER_SHARE                                     6819 non-null   float64\n",
      " 22  REVENUE_PER_SHARE__YUAN                                 6819 non-null   float64\n",
      " 23  OPERATING_PROFIT_PER_SHARE__YUAN                        6819 non-null   float64\n",
      " 24  PER_SHARE_NET_PROFIT_BEFORE_TAX__YUAN                   6819 non-null   float64\n",
      " 25  REALIZED_SALES_GROSS_PROFIT_GROWTH_RATE                 6819 non-null   float64\n",
      " 26  OPERATING_PROFIT_GROWTH_RATE                            6819 non-null   float64\n",
      " 27  AFTERTAX_NET_PROFIT_GROWTH_RATE                         6819 non-null   float64\n",
      " 28  REGULAR_NET_PROFIT_GROWTH_RATE                          6819 non-null   float64\n",
      " 29  CONTINUOUS_NET_PROFIT_GROWTH_RATE                       6819 non-null   float64\n",
      " 30  TOTAL_ASSET_GROWTH_RATE                                 6819 non-null   float64\n",
      " 31  NET_VALUE_GROWTH_RATE                                   6819 non-null   float64\n",
      " 32  TOTAL_ASSET_RETURN_GROWTH_RATE_RATIO                    6819 non-null   float64\n",
      " 33  CASH_REINVESTMENT                                       6819 non-null   float64\n",
      " 34  CURRENT_RATIO                                           6819 non-null   float64\n",
      " 35  QUICK_RATIO                                             6819 non-null   float64\n",
      " 36  INTEREST_EXPENSE_RATIO                                  6819 non-null   float64\n",
      " 37  TOTAL_DEBTTOTAL_NET_WORTH                               6819 non-null   float64\n",
      " 38  DEBT_RATIO                                              6819 non-null   float64\n",
      " 39  NET_WORTHASSETS                                         6819 non-null   float64\n",
      " 40  LONGTERM_FUND_SUITABILITY_RATIO__A                      6819 non-null   float64\n",
      " 41  BORROWING_DEPENDENCY                                    6819 non-null   float64\n",
      " 42  CONTINGENT_LIABILITIESNET_WORTH                         6819 non-null   float64\n",
      " 43  OPERATING_PROFITPAIDIN_CAPITAL                          6819 non-null   float64\n",
      " 44  NET_PROFIT_BEFORE_TAXPAIDIN_CAPITAL                     6819 non-null   float64\n",
      " 45  INVENTORY_AND_ACCOUNTS_RECEIVABLENET_VALUE              6819 non-null   float64\n",
      " 46  TOTAL_ASSET_TURNOVER                                    6819 non-null   float64\n",
      " 47  ACCOUNTS_RECEIVABLE_TURNOVER                            6819 non-null   float64\n",
      " 48  AVERAGE_COLLECTION_DAYS                                 6819 non-null   float64\n",
      " 49  INVENTORY_TURNOVER_RATE__TIMES                          6819 non-null   float64\n",
      " 50  FIXED_ASSETS_TURNOVER_FREQUENCY                         6819 non-null   float64\n",
      " 51  NET_WORTH_TURNOVER_RATE__TIMES                          6819 non-null   float64\n",
      " 52  REVENUE_PER_PERSON                                      6819 non-null   float64\n",
      " 53  OPERATING_PROFIT_PER_PERSON                             6819 non-null   float64\n",
      " 54  ALLOCATION_RATE_PER_PERSON                              6819 non-null   float64\n",
      " 55  WORKING_CAPITAL_TO_TOTAL_ASSETS                         6819 non-null   float64\n",
      " 56  QUICK_ASSETSTOTAL_ASSETS                                6819 non-null   float64\n",
      " 57  CURRENT_ASSETSTOTAL_ASSETS                              6819 non-null   float64\n",
      " 58  CASHTOTAL_ASSETS                                        6819 non-null   float64\n",
      " 59  QUICK_ASSETSCURRENT_LIABILITY                           6819 non-null   float64\n",
      " 60  CASHCURRENT_LIABILITY                                   6819 non-null   float64\n",
      " 61  CURRENT_LIABILITY_TO_ASSETS                             6819 non-null   float64\n",
      " 62  OPERATING_FUNDS_TO_LIABILITY                            6819 non-null   float64\n",
      " 63  INVENTORYWORKING_CAPITAL                                6819 non-null   float64\n",
      " 64  INVENTORYCURRENT_LIABILITY                              6819 non-null   float64\n",
      " 65  CURRENT_LIABILITIESLIABILITY                            6819 non-null   float64\n",
      " 66  WORKING_CAPITALEQUITY                                   6819 non-null   float64\n",
      " 67  CURRENT_LIABILITIESEQUITY                               6819 non-null   float64\n",
      " 68  LONGTERM_LIABILITY_TO_CURRENT_ASSETS                    6819 non-null   float64\n",
      " 69  RETAINED_EARNINGS_TO_TOTAL_ASSETS                       6819 non-null   float64\n",
      " 70  TOTAL_INCOMETOTAL_EXPENSE                               6819 non-null   float64\n",
      " 71  TOTAL_EXPENSEASSETS                                     6819 non-null   float64\n",
      " 72  CURRENT_ASSET_TURNOVER_RATE                             6819 non-null   float64\n",
      " 73  QUICK_ASSET_TURNOVER_RATE                               6819 non-null   float64\n",
      " 74  WORKING_CAPITCAL_TURNOVER_RATE                          6819 non-null   float64\n",
      " 75  CASH_TURNOVER_RATE                                      6819 non-null   float64\n",
      " 76  CASH_FLOW_TO_SALES                                      6819 non-null   float64\n",
      " 77  FIXED_ASSETS_TO_ASSETS                                  6819 non-null   float64\n",
      " 78  CURRENT_LIABILITY_TO_LIABILITY                          6819 non-null   float64\n",
      " 79  CURRENT_LIABILITY_TO_EQUITY                             6819 non-null   float64\n",
      " 80  EQUITY_TO_LONGTERM_LIABILITY                            6819 non-null   float64\n",
      " 81  CASH_FLOW_TO_TOTAL_ASSETS                               6819 non-null   float64\n",
      " 82  CASH_FLOW_TO_LIABILITY                                  6819 non-null   float64\n",
      " 83  CFO_TO_ASSETS                                           6819 non-null   float64\n",
      " 84  CASH_FLOW_TO_EQUITY                                     6819 non-null   float64\n",
      " 85  CURRENT_LIABILITY_TO_CURRENT_ASSETS                     6819 non-null   float64\n",
      " 86  LIABILITYASSETS_FLAG                                    6819 non-null   int64  \n",
      " 87  NET_INCOME_TO_TOTAL_ASSETS                              6819 non-null   float64\n",
      " 88  TOTAL_ASSETS_TO_GNP_PRICE                               6819 non-null   float64\n",
      " 89  NOCREDIT_INTERVAL                                       6819 non-null   float64\n",
      " 90  GROSS_PROFIT_TO_SALES                                   6819 non-null   float64\n",
      " 91  NET_INCOME_TO_STOCKHOLDERS_EQUITY                       6819 non-null   float64\n",
      " 92  LIABILITY_TO_EQUITY                                     6819 non-null   float64\n",
      " 93  DEGREE_OF_FINANCIAL_LEVERAGE__DFL                       6819 non-null   float64\n",
      " 94  INTEREST_COVERAGE_RATIO__INTEREST_EXPENSE_TO_EBIT       6819 non-null   float64\n",
      " 95  NET_INCOME_FLAG                                         6819 non-null   int64  \n",
      " 96  EQUITY_TO_LIABILITY                                     6819 non-null   float64\n",
      "dtypes: float64(93), int64(4)\n",
      "memory usage: 5.0 MB\n",
      "\n",
      "--- Estadísticas Descriptivas de las primeras 5 columnas ---\n"
     ]
    }
   ],
   "source": [
    "import pandas as pd\n",
    "import numpy as np\n",
    "from sklearn.model_selection import train_test_split\n",
    "from sklearn.preprocessing import StandardScaler\n",
    "from imblearn.over_sampling import SMOTE\n",
    "\n",
    "# Cargar el dataset\n",
    "try:\n",
    "    df = pd.read_csv('data_clean.csv')\n",
    "except FileNotFoundError:\n",
    "    print(\"Error: No encontrado\")\n",
    "    exit()\n",
    "\n",
    "df.info()\n",
    "\n",
    "print(\"\\n--- Estadísticas Descriptivas de las primeras 5 columnas ---\")\n"
   ]
  },
  {
   "cell_type": "code",
   "execution_count": 2,
   "id": "6f38f094",
   "metadata": {},
   "outputs": [
    {
     "data": {
      "text/plain": [
       "BANKRUPT                                                  1.000000\n",
       "NET_INCOME_TO_TOTAL_ASSETS                                0.315457\n",
       "ROA_A_BEFORE_INTEREST_AND__AFTER_TAX                      0.282941\n",
       "ROA_B_BEFORE_INTEREST_AND_DEPRECIATION_AFTER_TAX          0.273051\n",
       "ROA_C_BEFORE_INTEREST_AND_DEPRECIATION_BEFORE_INTEREST    0.260807\n",
       "NET_WORTHASSETS                                           0.250161\n",
       "DEBT_RATIO                                                0.250161\n",
       "PERSISTENT_EPS_IN_THE_LAST_FOUR_SEASONS                   0.219560\n",
       "RETAINED_EARNINGS_TO_TOTAL_ASSETS                         0.217779\n",
       "NET_PROFIT_BEFORE_TAXPAIDIN_CAPITAL                       0.207857\n",
       "PER_SHARE_NET_PROFIT_BEFORE_TAX__YUAN                     0.201395\n",
       "CURRENT_LIABILITY_TO_ASSETS                               0.194494\n",
       "WORKING_CAPITAL_TO_TOTAL_ASSETS                           0.193083\n",
       "NET_INCOME_TO_STOCKHOLDERS_EQUITY                         0.180987\n",
       "BORROWING_DEPENDENCY                                      0.176543\n",
       "CURRENT_LIABILITY_TO_CURRENT_ASSETS                       0.171306\n",
       "LIABILITY_TO_EQUITY                                       0.166812\n",
       "NET_VALUE_PER_SHARE__A                                    0.165465\n",
       "NET_VALUE_PER_SHARE__B                                    0.165399\n",
       "NET_VALUE_PER_SHARE__C                                    0.164784\n",
       "Name: BANKRUPT, dtype: float64"
      ]
     },
     "execution_count": 2,
     "metadata": {},
     "output_type": "execute_result"
    }
   ],
   "source": [
    "abs(df.corr()['BANKRUPT']).sort_values(ascending=False).head(20)"
   ]
  },
  {
   "cell_type": "code",
   "execution_count": 3,
   "id": "a0e045ef",
   "metadata": {},
   "outputs": [],
   "source": [
    "thres=0.2\n",
    "fil_cols=[col for col in df.columns if abs(df.corr()['BANKRUPT'][col])>thres]\n",
    "df_filt=df[fil_cols]"
   ]
  },
  {
   "cell_type": "code",
   "execution_count": 17,
   "id": "397e9fb0",
   "metadata": {},
   "outputs": [
    {
     "name": "stdout",
     "output_type": "stream",
     "text": [
      "11\n"
     ]
    }
   ],
   "source": [
    "print(len(df_filt.columns))"
   ]
  },
  {
   "cell_type": "code",
   "execution_count": 4,
   "id": "3cca61a2",
   "metadata": {},
   "outputs": [
    {
     "name": "stdout",
     "output_type": "stream",
     "text": [
      "\n",
      "--- Distribución de clases en el conjunto de entrenamiento antes de SMOTE ---\n",
      "BANKRUPT\n",
      "0    4619\n",
      "1     154\n",
      "Name: count, dtype: int64\n",
      "\n",
      "--- Distribución de clases en el conjunto de entrenamiento después de SMOTE ---\n",
      "BANKRUPT\n",
      "0    4619\n",
      "1    4619\n",
      "Name: count, dtype: int64\n"
     ]
    },
    {
     "name": "stderr",
     "output_type": "stream",
     "text": [
      "/Users/rpitti/Downloads/OneDrive_5_6-9-2025/.venv/lib/python3.9/site-packages/sklearn/base.py:474: FutureWarning: `BaseEstimator._validate_data` is deprecated in 1.6 and will be removed in 1.7. Use `sklearn.utils.validation.validate_data` instead. This function becomes public and is part of the scikit-learn developer API.\n",
      "  warnings.warn(\n"
     ]
    }
   ],
   "source": [
    "# 1. Dividir el dataset en conjuntos de entrenamiento y prueba (antes de aplicar SMOTE)\n",
    "X=df_filt.drop('BANKRUPT',axis=1)\n",
    "y=df_filt['BANKRUPT']\n",
    "X_train, X_test, y_train, y_test = train_test_split(X, y, test_size=0.3, random_state=101, stratify=y)\n",
    "#X_train, X_test, y_train, y_test = train_test_split(X_scaled_df, y, test_size=0.2, random_state=42,)\n",
    "\n",
    "print(f\"\\n--- Distribución de clases en el conjunto de entrenamiento antes de SMOTE ---\")\n",
    "print(y_train.value_counts())\n",
    "\n",
    "# 2. Aplicar SMOTE al conjunto de entrenamiento\n",
    "smote = SMOTE(random_state=42)\n",
    "X_train_resampled, y_train_resampled = smote.fit_resample(X_train, y_train)\n",
    "\n",
    "print(f\"\\n--- Distribución de clases en el conjunto de entrenamiento después de SMOTE ---\")\n",
    "print(y_train_resampled.value_counts())"
   ]
  },
  {
   "cell_type": "code",
   "execution_count": 5,
   "id": "61c44378",
   "metadata": {},
   "outputs": [
    {
     "name": "stdout",
     "output_type": "stream",
     "text": [
      "--- Evaluación: Regresión Logística ---\n",
      "              precision    recall  f1-score   support\n",
      "\n",
      "           0       0.99      0.85      0.91      1980\n",
      "           1       0.16      0.85      0.26        66\n",
      "\n",
      "    accuracy                           0.85      2046\n",
      "   macro avg       0.58      0.85      0.59      2046\n",
      "weighted avg       0.97      0.85      0.89      2046\n",
      "\n",
      "Área bajo la curva ROC (AUC): 0.9200566268748087\n"
     ]
    }
   ],
   "source": [
    "from sklearn.linear_model import LogisticRegression\n",
    "from sklearn.metrics import classification_report, accuracy_score, roc_auc_score, confusion_matrix\n",
    "\n",
    "# Inicializar y entrenar el modelo de Regresión Logística\n",
    "log_reg = LogisticRegression(random_state=42, max_iter=1000)\n",
    "\n",
    "# Entrenamos con los datos balanceados\n",
    "log_reg.fit(X_train_resampled, y_train_resampled)\n",
    "\n",
    "# Predicciones en el conjunto de prueba (NO balanceado)\n",
    "y_pred_log_reg = log_reg.predict(X_test)\n",
    "y_prob_log_reg = log_reg.predict_proba(X_test)[:, 1] # Probabilidades para la clase 1 (Bancarrota)\n",
    "\n",
    "# Evaluación\n",
    "print(\"--- Evaluación: Regresión Logística ---\")\n",
    "print(classification_report(y_test, y_pred_log_reg))\n",
    "print(\"Área bajo la curva ROC (AUC):\", roc_auc_score(y_test, y_prob_log_reg))"
   ]
  },
  {
   "cell_type": "code",
   "execution_count": 6,
   "id": "16284dbc",
   "metadata": {},
   "outputs": [
    {
     "name": "stdout",
     "output_type": "stream",
     "text": [
      "\n",
      "--- Evaluación: Random Forest ---\n",
      "              precision    recall  f1-score   support\n",
      "\n",
      "           0       0.99      0.94      0.96      1980\n",
      "           1       0.26      0.58      0.35        66\n",
      "\n",
      "    accuracy                           0.93      2046\n",
      "   macro avg       0.62      0.76      0.66      2046\n",
      "weighted avg       0.96      0.93      0.94      2046\n",
      "\n",
      "Área bajo la curva ROC (AUC): 0.8785583103764922\n"
     ]
    }
   ],
   "source": [
    "from sklearn.ensemble import RandomForestClassifier\n",
    "\n",
    "# Inicializar y entrenar el modelo Random Forest\n",
    "rf_clf = RandomForestClassifier(n_estimators=100, random_state=42)\n",
    "\n",
    "# Entrenamos con los datos balanceados\n",
    "rf_clf.fit(X_train_resampled, y_train_resampled)\n",
    "\n",
    "# Predicciones en el conjunto de prueba (NO balanceado)\n",
    "y_pred_rf = rf_clf.predict(X_test)\n",
    "y_prob_rf = rf_clf.predict_proba(X_test)[:, 1]\n",
    "\n",
    "# Evaluación\n",
    "print(\"\\n--- Evaluación: Random Forest ---\")\n",
    "print(classification_report(y_test, y_pred_rf))\n",
    "print(\"Área bajo la curva ROC (AUC):\", roc_auc_score(y_test, y_prob_rf))"
   ]
  },
  {
   "cell_type": "code",
   "execution_count": 7,
   "id": "c0dc8624",
   "metadata": {},
   "outputs": [
    {
     "name": "stdout",
     "output_type": "stream",
     "text": [
      "\n",
      "--- Evaluación: XGBoost ---\n",
      "              precision    recall  f1-score   support\n",
      "\n",
      "           0       0.99      0.94      0.96      1980\n",
      "           1       0.24      0.61      0.34        66\n",
      "\n",
      "    accuracy                           0.93      2046\n",
      "   macro avg       0.61      0.77      0.65      2046\n",
      "weighted avg       0.96      0.93      0.94      2046\n",
      "\n",
      "Área bajo la curva ROC (AUC): 0.8758991429445975\n"
     ]
    },
    {
     "name": "stderr",
     "output_type": "stream",
     "text": [
      "/Users/rpitti/Downloads/OneDrive_5_6-9-2025/.venv/lib/python3.9/site-packages/xgboost/core.py:158: UserWarning: [07:44:53] WARNING: /Users/runner/work/xgboost/xgboost/src/learner.cc:740: \n",
      "Parameters: { \"use_label_encoder\" } are not used.\n",
      "\n",
      "  warnings.warn(smsg, UserWarning)\n"
     ]
    }
   ],
   "source": [
    "import xgboost as xgb\n",
    "\n",
    "# Inicializar y entrenar el modelo XGBoost\n",
    "xgb_clf = xgb.XGBClassifier(objective='binary:logistic', eval_metric='logloss', use_label_encoder=False, random_state=42)\n",
    "\n",
    "# Entrenamos con los datos balanceados\n",
    "xgb_clf.fit(X_train_resampled, y_train_resampled)\n",
    "\n",
    "# Predicciones en el conjunto de prueba\n",
    "y_pred_xgb = xgb_clf.predict(X_test)\n",
    "y_prob_xgb = xgb_clf.predict_proba(X_test)[:, 1]\n",
    "\n",
    "# Evaluación\n",
    "print(\"\\n--- Evaluación: XGBoost ---\")\n",
    "print(classification_report(y_test, y_pred_xgb))\n",
    "print(\"Área bajo la curva ROC (AUC):\", roc_auc_score(y_test, y_prob_xgb))"
   ]
  },
  {
   "cell_type": "code",
   "execution_count": 8,
   "id": "a811f7cc",
   "metadata": {},
   "outputs": [
    {
     "name": "stdout",
     "output_type": "stream",
     "text": [
      "[LightGBM] [Info] Number of positive: 176, number of negative: 5279\n",
      "[LightGBM] [Info] Auto-choosing col-wise multi-threading, the overhead of testing was 0.001388 seconds.\n",
      "You can set `force_col_wise=true` to remove the overhead.\n",
      "[LightGBM] [Info] Total Bins 23968\n",
      "[LightGBM] [Info] Number of data points in the train set: 5455, number of used features: 94\n",
      "[LightGBM] [Info] [binary:BoostFromScore]: pavg=0.032264 -> initscore=-3.401008\n",
      "[LightGBM] [Info] Start training from score -3.401008\n",
      "[[1305   15]\n",
      " [  19   25]]\n",
      "              precision    recall  f1-score   support\n",
      "\n",
      "           0       0.99      0.99      0.99      1320\n",
      "           1       0.62      0.57      0.60        44\n",
      "\n",
      "    accuracy                           0.98      1364\n",
      "   macro avg       0.81      0.78      0.79      1364\n",
      "weighted avg       0.97      0.98      0.97      1364\n",
      "\n",
      "ROC AUC: 0.9537017906336088\n",
      "Gini: 0.9074\n"
     ]
    },
    {
     "name": "stderr",
     "output_type": "stream",
     "text": [
      "/Users/rpitti/Downloads/OneDrive_5_6-9-2025/.venv/lib/python3.9/site-packages/sklearn/utils/validation.py:2739: UserWarning: X does not have valid feature names, but LGBMClassifier was fitted with feature names\n",
      "  warnings.warn(\n",
      "/Users/rpitti/Downloads/OneDrive_5_6-9-2025/.venv/lib/python3.9/site-packages/sklearn/utils/validation.py:2739: UserWarning: X does not have valid feature names, but LGBMClassifier was fitted with feature names\n",
      "  warnings.warn(\n"
     ]
    }
   ],
   "source": [
    "from lightgbm import LGBMClassifier\n",
    "# Separar X y y\n",
    "X = df.drop('BANKRUPT', axis=1)\n",
    "y = df['BANKRUPT']\n",
    "\n",
    "# Escalar\n",
    "scaler = StandardScaler()\n",
    "X_scaled = scaler.fit_transform(X)\n",
    "\n",
    "# Dividir datos\n",
    "X_train, X_test, y_train, y_test = train_test_split(\n",
    "    X_scaled, y, test_size=0.2, stratify=y, random_state=42\n",
    ")\n",
    "\n",
    "# Instanciar modelo\n",
    "clf = LGBMClassifier(\n",
    "    boosting_type='gbdt',\n",
    "    objective='binary',\n",
    "    is_unbalance=True,\n",
    "    learning_rate=0.05,\n",
    "    num_leaves=31,\n",
    "    n_estimators=200\n",
    ")\n",
    "\n",
    "# Entrenar con early stopping\n",
    "clf.fit(\n",
    "    X_train, y_train,\n",
    "    eval_set=[(X_test, y_test)],\n",
    "    eval_metric='auc'\n",
    ")\n",
    "\n",
    "# Predicciones\n",
    "y_pred = clf.predict(X_test)\n",
    "y_pred_prob = clf.predict_proba(X_test)[:, 1]\n",
    "\n",
    "# Evaluar\n",
    "print(confusion_matrix(y_test, y_pred))\n",
    "print(classification_report(y_test, y_pred))\n",
    "print(\"ROC AUC:\", roc_auc_score(y_test, y_pred_prob))\n",
    "gini = 2 * roc_auc_score(y_test, y_pred_prob) - 1\n",
    "\n",
    "print(f\"Gini: {gini:.4f}\")"
   ]
  },
  {
   "cell_type": "code",
   "execution_count": 9,
   "id": "18b087e6",
   "metadata": {},
   "outputs": [
    {
     "data": {
      "image/png": "[encoded data removed]",
      "text/plain": [
       "<Figure size 800x600 with 1 Axes>"
      ]
     },
     "metadata": {},
     "output_type": "display_data"
    }
   ],
   "source": [
    "from sklearn.metrics import roc_curve\n",
    "import matplotlib.pyplot as plt\n",
    "fpr, tpr, thresholds = roc_curve(y_test, y_pred_prob)\n",
    "\n",
    "# Calcular AUC\n",
    "auc = roc_auc_score(y_test, y_pred_prob)\n",
    "gini = 2 * auc - 1\n",
    "\n",
    "# Graficar\n",
    "plt.figure(figsize=(8, 6))\n",
    "plt.plot(fpr, tpr, label=f'ROC Curve (AUC = {auc:.4f}, Gini = {gini:.4f})')\n",
    "plt.plot([0, 1], [0, 1], linestyle='--', color='gray', label='Random Model')\n",
    "\n",
    "plt.xlabel('False Positive Rate')\n",
    "plt.ylabel('True Positive Rate')\n",
    "plt.title('Receiver Operating Characteristic (ROC) Curve')\n",
    "plt.legend(loc='lower right')\n",
    "plt.grid(True)\n",
    "plt.show()"
   ]
  },
  {
   "cell_type": "code",
   "execution_count": 10,
   "id": "2f54d5df",
   "metadata": {},
   "outputs": [
    {
     "data": {
      "image/png": "[encoded data removed]",
      "text/plain": [
       "<Figure size 1000x600 with 1 Axes>"
      ]
     },
     "metadata": {},
     "output_type": "display_data"
    },
    {
     "name": "stdout",
     "output_type": "stream",
     "text": [
      "Mejor umbral según F1: 0.51 (F1=0.6024)\n"
     ]
    }
   ],
   "source": [
    "import numpy as np\n",
    "import matplotlib.pyplot as plt\n",
    "from sklearn.metrics import precision_score, recall_score, f1_score\n",
    "\n",
    "# Rango de umbrales\n",
    "thresholds = np.arange(0.0, 1.01, 0.01)\n",
    "\n",
    "precision_list = []\n",
    "recall_list = []\n",
    "f1_list = []\n",
    "\n",
    "for t in thresholds:\n",
    "    y_pred_t = (y_pred_prob >= t).astype(int)\n",
    "    precision_list.append(precision_score(y_test, y_pred_t, zero_division=0))\n",
    "    recall_list.append(recall_score(y_test, y_pred_t))\n",
    "    f1_list.append(f1_score(y_test, y_pred_t))\n",
    "\n",
    "# Graficar\n",
    "plt.figure(figsize=(10, 6))\n",
    "plt.plot(thresholds, precision_list, label='Precision')\n",
    "plt.plot(thresholds, recall_list, label='Recall')\n",
    "plt.plot(thresholds, f1_list, label='F1-score')\n",
    "plt.xlabel('Umbral de decisión')\n",
    "plt.ylabel('Métrica')\n",
    "plt.title('Precision, Recall y F1 vs. Umbral')\n",
    "plt.legend()\n",
    "plt.grid(True)\n",
    "plt.show()\n",
    "\n",
    "# Opcional: Umbral con máximo F1\n",
    "best_idx = np.argmax(f1_list)\n",
    "best_threshold = thresholds[best_idx]\n",
    "print(f\"Mejor umbral según F1: {best_threshold:.2f} (F1={f1_list[best_idx]:.4f})\")"
   ]
  },
  {
   "cell_type": "code",
   "execution_count": 18,
   "id": "cc6a5b8c",
   "metadata": {},
   "outputs": [
    {
     "name": "stdout",
     "output_type": "stream",
     "text": [
      "\n",
      "--- Evaluación: LightGBM con HyperParameter Tuning y Feature Reduction ---\n",
      "              precision    recall  f1-score   support\n",
      "\n",
      "           0       0.99      0.99      0.99      1320\n",
      "           1       0.64      0.57      0.60        44\n",
      "\n",
      "    accuracy                           0.98      1364\n",
      "   macro avg       0.81      0.78      0.79      1364\n",
      "weighted avg       0.97      0.98      0.98      1364\n",
      "\n",
      "AUC: 0.9537\n"
     ]
    }
   ],
   "source": [
    "# Predicción con umbral óptimo\n",
    "y_pred_opt = (y_pred_prob >= 0.51).astype(int)\n",
    "\n",
    "# Nuevo reporte\n",
    "print(\"\\n--- Evaluación: LightGBM con HyperParameter Tuning y Feature Reduction ---\")\n",
    "print(classification_report(y_test, y_pred_opt))\n",
    "\n",
    "# AUC se mantiene igual porque no depende del umbral\n",
    "auc = roc_auc_score(y_test, y_pred_prob)\n",
    "print(f\"AUC: {auc:.4f}\")"
   ]
  },
  {
   "cell_type": "code",
   "execution_count": 14,
   "id": "2eedd176",
   "metadata": {},
   "outputs": [
    {
     "name": "stdout",
     "output_type": "stream",
     "text": [
      "Matriz de confusión con umbral 0.51:\n",
      "[[1306   14]\n",
      " [  19   25]]\n"
     ]
    }
   ],
   "source": [
    "from sklearn.metrics import confusion_matrix\n",
    "\n",
    "cm = confusion_matrix(y_test, y_pred_opt)\n",
    "print(\"Matriz de confusión con umbral 0.51:\")\n",
    "print(cm)"
   ]
  }
 ],
 "metadata": {
  "kernelspec": {
   "display_name": ".venv",
   "language": "python",
   "name": "python3"
  },
  "language_info": {
   "codemirror_mode": {
    "name": "ipython",
    "version": 3
   },
   "file_extension": ".py",
   "mimetype": "text/x-python",
   "name": "python",
   "nbconvert_exporter": "python",
   "pygments_lexer": "ipython3",
   "version": "3.9.6"
  }
 },
 "nbformat": 4,
 "nbformat_minor": 5
}
